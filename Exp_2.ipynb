{
 "cells": [
  {
   "cell_type": "code",
   "execution_count": 2,
   "id": "7143cb12",
   "metadata": {},
   "outputs": [
    {
     "name": "stdout",
     "output_type": "stream",
     "text": [
      "Enter limit of list : 10\n",
      "[18, 10, 14, 2, 6, 1, 8, 2, 20, 7]\n"
     ]
    }
   ],
   "source": [
    "import random as r\n",
    "\n",
    "limit =int(input(\"Enter limit of list : \"))\n",
    "data=[]\n",
    "for i in range (0,limit):\n",
    "    data.append( r.randint(1,20) )\n",
    "    \n",
    "print(data)"
   ]
  },
  {
   "cell_type": "code",
   "execution_count": 19,
   "id": "489d5d34",
   "metadata": {},
   "outputs": [
    {
     "name": "stdout",
     "output_type": "stream",
     "text": [
      "Mean: 10.0\n",
      "Median: 9.5\n",
      "Mode: 6\n",
      "Standard Deviation: 6.146362971528592\n"
     ]
    }
   ],
   "source": [
    "import statistics as stat\n",
    "import numpy as np\n",
    "\n",
    "# Mean (Average)\n",
    "mean = np.mean(data)\n",
    "print(\"Mean:\", mean)\n",
    "\n",
    "# Median (Middle Value)\n",
    "median = np.median(data)\n",
    "print(\"Median:\", median)\n",
    "\n",
    "# Mode (Most Common Value)\n",
    "mode = stat.mode(data)\n",
    "print(\"Mode:\", mode)\n",
    "\n",
    "# Standard Deviation\n",
    "std_dev = stat.stdev(data)\n",
    "print(\"Standard Deviation:\", std_dev)"
   ]
  },
  {
   "cell_type": "code",
   "execution_count": null,
   "id": "9d36898c",
   "metadata": {},
   "outputs": [],
   "source": [
    "# Percentile (e.g., 75th percentile)\n",
    "percentile_value = 75\n",
    "percentile = np.percentile(data, percentile_value)\n",
    "print(f\"{percentile_value}th Percentile:\", percentile)\n",
    "\n",
    "# Data Distributions\n",
    "data_count = len(data)\n",
    "data_distribution = {}\n",
    "\n",
    "for value in data:\n",
    "    if value in data_distribution:\n",
    "        data_distribution[value] += 1\n",
    "    else:\n",
    "        data_distribution[value] = 1\n",
    "\n",
    "print(\"Data Distribution:\")\n",
    "for value, count in data_distribution.items():\n",
    "    print(f\"{value}: {count}\")"
   ]
  },
  {
   "cell_type": "code",
   "execution_count": 4,
   "id": "042a01e7",
   "metadata": {},
   "outputs": [
    {
     "name": "stdout",
     "output_type": "stream",
     "text": [
      "Mean =  8.8\n"
     ]
    }
   ],
   "source": [
    "def mean(data,limit):\n",
    "    sum=0\n",
    "    for i in data:\n",
    "        sum += i\n",
    "    mean = sum /limit\n",
    "    print(\"Mean = \",mean)\n",
    "\n",
    "mean(data,limit)\n",
    "    "
   ]
  },
  {
   "cell_type": "code",
   "execution_count": 19,
   "id": "177ae4d2",
   "metadata": {},
   "outputs": [
    {
     "name": "stdout",
     "output_type": "stream",
     "text": [
      "[1, 2, 2, 6, 7, 8, 10, 14, 18, 20]\n",
      "Median =  7.5\n"
     ]
    }
   ],
   "source": [
    "def median(data,limit):\n",
    "    data.sort()\n",
    "    print(data)\n",
    "    if (limit%2==0):\n",
    "        median = (data[limit//2] + data[limit//2 - 1])/2\n",
    "    else:\n",
    "        median = data[limit]/2\n",
    "    print(\"Median = \", median)\n",
    "    \n",
    "median(data,limit)"
   ]
  },
  {
   "cell_type": "code",
   "execution_count": 22,
   "id": "c65f5ad6",
   "metadata": {},
   "outputs": [
    {
     "name": "stdout",
     "output_type": "stream",
     "text": [
      "{1: 1, 2: 2, 6: 1, 7: 1, 8: 1, 10: 1, 14: 1, 18: 1, 20: 1}\n",
      "Mode =  2\n"
     ]
    }
   ],
   "source": [
    "def mode(data):\n",
    "    db = {}\n",
    "    for i in data:\n",
    "        if i not in db:\n",
    "            db[i] = 1\n",
    "        else:\n",
    "            db[i] += 1\n",
    "    print(db)\n",
    "    max_freq = max(db.values())\n",
    "    \n",
    "    for i in db :\n",
    "        if (db[i] == max_freq):\n",
    "            occur = i\n",
    "    print(\"Mode = \", occur)\n",
    "    \n",
    "mode(data)"
   ]
  },
  {
   "cell_type": "code",
   "execution_count": 12,
   "id": "d709eb4f",
   "metadata": {},
   "outputs": [
    {
     "name": "stdout",
     "output_type": "stream",
     "text": [
      "Standard Deviation: 6.696599468718765\n",
      "Variance :  44.84444444444444\n"
     ]
    }
   ],
   "source": [
    "import statistics as stat\n",
    "\n",
    "std_dev = stat.stdev(data)\n",
    "print(\"Standard Deviation:\", std_dev)\n",
    "\n",
    "var = stat.variance(data)\n",
    "print(\"Variance : \",var)"
   ]
  }
 ],
 "metadata": {
  "kernelspec": {
   "display_name": "Python 3 (ipykernel)",
   "language": "python",
   "name": "python3"
  },
  "language_info": {
   "codemirror_mode": {
    "name": "ipython",
    "version": 3
   },
   "file_extension": ".py",
   "mimetype": "text/x-python",
   "name": "python",
   "nbconvert_exporter": "python",
   "pygments_lexer": "ipython3",
   "version": "3.8.10"
  }
 },
 "nbformat": 4,
 "nbformat_minor": 5
}
